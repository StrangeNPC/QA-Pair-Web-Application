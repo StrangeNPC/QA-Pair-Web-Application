{
 "cells": [
  {
   "cell_type": "code",
   "execution_count": 1,
   "id": "154b035b",
   "metadata": {},
   "outputs": [],
   "source": [
    "from haystack.document_stores.faiss import FAISSDocumentStore\n",
    "from haystack.nodes import EmbeddingRetriever\n"
   ]
  },
  {
   "cell_type": "code",
   "execution_count": 2,
   "id": "b4fbb886",
   "metadata": {},
   "outputs": [],
   "source": [
    "import os\n",
    "YOUR_PATH=os.getcwd()\n",
    "document_store = FAISSDocumentStore.load(f\"{YOUR_PATH}/faiss2_document_store\")"
   ]
  },
  {
   "cell_type": "code",
   "execution_count": 3,
   "id": "095544c2",
   "metadata": {},
   "outputs": [],
   "source": [
    "# Load FAISS document store\n",
    "#document_store = FAISSDocumentStore.load(index_path=\"PSSCOC1_index.faiss\",config_path=\"PSSCOC1_config.json\")\n",
    "#document_store = FAISSDocumentStore(sql_url=\"sqlite:///my_doc_store.db\",faiss_config_path=\"PSSCOC1_config.json\")\n",
    "#documents = document_store.get_all_documents(return_embedding=True)\n",
    "#print(documents)"
   ]
  },
  {
   "cell_type": "code",
   "execution_count": 4,
   "id": "5bc0976c",
   "metadata": {},
   "outputs": [
    {
     "name": "stderr",
     "output_type": "stream",
     "text": [
      "C:\\Users\\Admin\\anaconda3\\envs\\QuestionAnswer\\lib\\site-packages\\torch\\_utils.py:776: UserWarning: TypedStorage is deprecated. It will be removed in the future and UntypedStorage will be the only storage class. This should only matter to you if you are using storages directly.  To access UntypedStorage directly, use tensor.untyped_storage() instead of tensor.storage()\n",
      "  return self.fget.__get__(instance, owner)()\n"
     ]
    }
   ],
   "source": [
    "from haystack.nodes import EmbeddingRetriever\n",
    "\n",
    "# Initialize EmbeddingRetriever Retriever to encode documents, encode question and query documents\n",
    "retriever = EmbeddingRetriever(\n",
    "    document_store=document_store,\n",
    "    embedding_model=\"flax-sentence-embeddings/all_datasets_v3_mpnet-base\",\n",
    "    model_format=\"sentence_transformers\"\n",
    ")"
   ]
  },
  {
   "cell_type": "code",
   "execution_count": 5,
   "id": "fb4abcfc",
   "metadata": {},
   "outputs": [],
   "source": [
    "QUESTIONS = [\n",
    "    \"What must happen for the Employer to terminate the contract in PSSCOC?\",\n",
    "    \"What happens when a Contractor is terminated for default in PSSCOC?\",\n",
    "    \"What are the liquidated damages after termination in PSSCOC?\",\n",
    "    \"Is the contractor responsible for damages caused by the subcontractor in PSSCOC?\",\n",
    "    \"Write me a contract provision on a Cafe within an underground rail system\"\n",
    "]"
   ]
  },
  {
   "cell_type": "code",
   "execution_count": 6,
   "id": "cd62579b",
   "metadata": {},
   "outputs": [],
   "source": [
    "from haystack.nodes import Seq2SeqGenerator\n",
    "\n",
    "generator = Seq2SeqGenerator(model_name_or_path=\"vblagoje/bart_lfqa\")"
   ]
  },
  {
   "cell_type": "code",
   "execution_count": 7,
   "id": "33e3e434",
   "metadata": {},
   "outputs": [
    {
     "data": {
      "application/vnd.jupyter.widget-view+json": {
       "model_id": "5dc3a6d93ce04ccbb3a761fe969411dd",
       "version_major": 2,
       "version_minor": 0
      },
      "text/plain": [
       "Batches:   0%|          | 0/1 [00:00<?, ?it/s]"
      ]
     },
     "metadata": {},
     "output_type": "display_data"
    },
    {
     "name": "stdout",
     "output_type": "stream",
     "text": [
      "\n",
      "Query: What must happen for the Employer to terminate the contract in PSSCOC?\n",
      "Answers:\n",
      "[   {   'answer': 'It depends on the contract. If the Contractor has failed to '\n",
      "                  'complete the work in accordance with the terms of the '\n",
      "                  'contract, then the Employer has the right to terminate the '\n",
      "                  'contract at any time.'}]\n"
     ]
    },
    {
     "data": {
      "application/vnd.jupyter.widget-view+json": {
       "model_id": "f2a840239b08422ea4b9ea88d7b2fe75",
       "version_major": 2,
       "version_minor": 0
      },
      "text/plain": [
       "Batches:   0%|          | 0/1 [00:00<?, ?it/s]"
      ]
     },
     "metadata": {},
     "output_type": "display_data"
    },
    {
     "name": "stdout",
     "output_type": "stream",
     "text": [
      "\n",
      "Query: What happens when a Contractor is terminated for default in PSSCOC?\n",
      "Answers:\n",
      "[   {   'answer': 'It depends on the contract. If the contract says that the '\n",
      "                  'Contractor is responsible for all of the work done by the '\n",
      "                  'subcontractor, then the employer will be responsible for '\n",
      "                  'the work performed by that subcontractor. The Contractor '\n",
      "                  'will not be held responsible for any work that is performed '\n",
      "                  'by a subcontractor that is not part of the Contract.'}]\n"
     ]
    },
    {
     "data": {
      "application/vnd.jupyter.widget-view+json": {
       "model_id": "7c1503999eac42eb89b681723f77b7d2",
       "version_major": 2,
       "version_minor": 0
      },
      "text/plain": [
       "Batches:   0%|          | 0/1 [00:00<?, ?it/s]"
      ]
     },
     "metadata": {},
     "output_type": "display_data"
    },
    {
     "name": "stdout",
     "output_type": "stream",
     "text": [
      "\n",
      "Query: What are the liquidated damages after termination in PSSCOC?\n",
      "Answers:\n",
      "[   {   'answer': 'The amount of liquidated damages is determined by the terms '\n",
      "                  'of the contract. For example, if the contract says that the '\n",
      "                  'Contractor must complete the work by the time the time for '\n",
      "                  'Completion expires, then the contract is void. The '\n",
      "                  'Contractor is responsible for the cost of completing the '\n",
      "                  'work. If the contractor does not complete the works by the '\n",
      "                  'end of the time period specified in the contract, the '\n",
      "                  'contract remains void.'}]\n"
     ]
    },
    {
     "data": {
      "application/vnd.jupyter.widget-view+json": {
       "model_id": "d56b51087e0a409892162258fee55a9d",
       "version_major": 2,
       "version_minor": 0
      },
      "text/plain": [
       "Batches:   0%|          | 0/1 [00:00<?, ?it/s]"
      ]
     },
     "metadata": {},
     "output_type": "display_data"
    },
    {
     "name": "stdout",
     "output_type": "stream",
     "text": [
      "\n",
      "Query: Is the contractor responsible for damages caused by the subcontractor in PSSCOC?\n",
      "Answers:\n",
      "[   {   'answer': 'Yes, the contractor is responsible for any damages caused '\n",
      "                  'by the subcontractor in PSSCOC.'}]\n"
     ]
    },
    {
     "data": {
      "application/vnd.jupyter.widget-view+json": {
       "model_id": "8f48317623204e459bc0fade0094fdbe",
       "version_major": 2,
       "version_minor": 0
      },
      "text/plain": [
       "Batches:   0%|          | 0/1 [00:00<?, ?it/s]"
      ]
     },
     "metadata": {},
     "output_type": "display_data"
    },
    {
     "name": "stdout",
     "output_type": "stream",
     "text": [
      "\n",
      "Query: Write me a contract provision on a Cafe within an underground rail system\n",
      "Answers:\n",
      "[   {   'answer': \"I'm not a lawyer, but I'm pretty sure this is what you're \"\n",
      "                  'looking for.'}]\n"
     ]
    }
   ],
   "source": [
    "# Or alternatively use the Pipeline class\n",
    "from haystack.pipelines import GenerativeQAPipeline\n",
    "from haystack.utils import print_answers\n",
    "\n",
    "pipe = GenerativeQAPipeline(generator=generator, retriever=retriever)\n",
    "for question in QUESTIONS:\n",
    "    res = pipe.run(query=question, params={\"Generator\": {\"top_k\": 1}, \"Retriever\": {\"top_k\": 5}})\n",
    "    print_answers(res, details=\"minimum\")"
   ]
  },
  {
   "cell_type": "code",
   "execution_count": null,
   "id": "68907518",
   "metadata": {},
   "outputs": [],
   "source": []
  }
 ],
 "metadata": {
  "kernelspec": {
   "display_name": "Python 3 (ipykernel)",
   "language": "python",
   "name": "python3"
  },
  "language_info": {
   "codemirror_mode": {
    "name": "ipython",
    "version": 3
   },
   "file_extension": ".py",
   "mimetype": "text/x-python",
   "name": "python",
   "nbconvert_exporter": "python",
   "pygments_lexer": "ipython3",
   "version": "3.9.16"
  }
 },
 "nbformat": 4,
 "nbformat_minor": 5
}
